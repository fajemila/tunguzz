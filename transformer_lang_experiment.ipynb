{
  "nbformat": 4,
  "nbformat_minor": 0,
  "metadata": {
    "colab": {
      "name": "transformer lang experiment.ipynb",
      "provenance": []
    },
    "kernelspec": {
      "name": "python3",
      "display_name": "Python 3"
    },
    "widgets": {
      "application/vnd.jupyter.widget-state+json": {
        "97c5f788cf234464869ae3742dac7370": {
          "model_module": "@jupyter-widgets/controls",
          "model_name": "HBoxModel",
          "state": {
            "_view_name": "HBoxView",
            "_dom_classes": [],
            "_model_name": "HBoxModel",
            "_view_module": "@jupyter-widgets/controls",
            "_model_module_version": "1.5.0",
            "_view_count": null,
            "_view_module_version": "1.5.0",
            "box_style": "",
            "layout": "IPY_MODEL_7294a86f3efe4b1494189285b96f0ce7",
            "_model_module": "@jupyter-widgets/controls",
            "children": [
              "IPY_MODEL_56842bf91e3d45f1b2f16f65855e2870",
              "IPY_MODEL_c0e2e6904adb4c7eb7b94caafebedb99"
            ]
          }
        },
        "7294a86f3efe4b1494189285b96f0ce7": {
          "model_module": "@jupyter-widgets/base",
          "model_name": "LayoutModel",
          "state": {
            "_view_name": "LayoutView",
            "grid_template_rows": null,
            "right": null,
            "justify_content": null,
            "_view_module": "@jupyter-widgets/base",
            "overflow": null,
            "_model_module_version": "1.2.0",
            "_view_count": null,
            "flex_flow": null,
            "width": null,
            "min_width": null,
            "border": null,
            "align_items": null,
            "bottom": null,
            "_model_module": "@jupyter-widgets/base",
            "top": null,
            "grid_column": null,
            "overflow_y": null,
            "overflow_x": null,
            "grid_auto_flow": null,
            "grid_area": null,
            "grid_template_columns": null,
            "flex": null,
            "_model_name": "LayoutModel",
            "justify_items": null,
            "grid_row": null,
            "max_height": null,
            "align_content": null,
            "visibility": null,
            "align_self": null,
            "height": null,
            "min_height": null,
            "padding": null,
            "grid_auto_rows": null,
            "grid_gap": null,
            "max_width": null,
            "order": null,
            "_view_module_version": "1.2.0",
            "grid_template_areas": null,
            "object_position": null,
            "object_fit": null,
            "grid_auto_columns": null,
            "margin": null,
            "display": null,
            "left": null
          }
        },
        "56842bf91e3d45f1b2f16f65855e2870": {
          "model_module": "@jupyter-widgets/controls",
          "model_name": "FloatProgressModel",
          "state": {
            "_view_name": "ProgressView",
            "style": "IPY_MODEL_7c0c0dbddb4c47c89163b5f1256fdd84",
            "_dom_classes": [],
            "description": "Downloading: 100%",
            "_model_name": "FloatProgressModel",
            "bar_style": "success",
            "max": 798011,
            "_view_module": "@jupyter-widgets/controls",
            "_model_module_version": "1.5.0",
            "value": 798011,
            "_view_count": null,
            "_view_module_version": "1.5.0",
            "orientation": "horizontal",
            "min": 0,
            "description_tooltip": null,
            "_model_module": "@jupyter-widgets/controls",
            "layout": "IPY_MODEL_c581186c503b4a18994d33fba9d89412"
          }
        },
        "c0e2e6904adb4c7eb7b94caafebedb99": {
          "model_module": "@jupyter-widgets/controls",
          "model_name": "HTMLModel",
          "state": {
            "_view_name": "HTMLView",
            "style": "IPY_MODEL_0eee381fa5e24bc1becb43875d494c80",
            "_dom_classes": [],
            "description": "",
            "_model_name": "HTMLModel",
            "placeholder": "​",
            "_view_module": "@jupyter-widgets/controls",
            "_model_module_version": "1.5.0",
            "value": " 798k/798k [00:09&lt;00:00, 81.5kB/s]",
            "_view_count": null,
            "_view_module_version": "1.5.0",
            "description_tooltip": null,
            "_model_module": "@jupyter-widgets/controls",
            "layout": "IPY_MODEL_076151d77b66454293a2fb5214002631"
          }
        },
        "7c0c0dbddb4c47c89163b5f1256fdd84": {
          "model_module": "@jupyter-widgets/controls",
          "model_name": "ProgressStyleModel",
          "state": {
            "_view_name": "StyleView",
            "_model_name": "ProgressStyleModel",
            "description_width": "initial",
            "_view_module": "@jupyter-widgets/base",
            "_model_module_version": "1.5.0",
            "_view_count": null,
            "_view_module_version": "1.2.0",
            "bar_color": null,
            "_model_module": "@jupyter-widgets/controls"
          }
        },
        "c581186c503b4a18994d33fba9d89412": {
          "model_module": "@jupyter-widgets/base",
          "model_name": "LayoutModel",
          "state": {
            "_view_name": "LayoutView",
            "grid_template_rows": null,
            "right": null,
            "justify_content": null,
            "_view_module": "@jupyter-widgets/base",
            "overflow": null,
            "_model_module_version": "1.2.0",
            "_view_count": null,
            "flex_flow": null,
            "width": null,
            "min_width": null,
            "border": null,
            "align_items": null,
            "bottom": null,
            "_model_module": "@jupyter-widgets/base",
            "top": null,
            "grid_column": null,
            "overflow_y": null,
            "overflow_x": null,
            "grid_auto_flow": null,
            "grid_area": null,
            "grid_template_columns": null,
            "flex": null,
            "_model_name": "LayoutModel",
            "justify_items": null,
            "grid_row": null,
            "max_height": null,
            "align_content": null,
            "visibility": null,
            "align_self": null,
            "height": null,
            "min_height": null,
            "padding": null,
            "grid_auto_rows": null,
            "grid_gap": null,
            "max_width": null,
            "order": null,
            "_view_module_version": "1.2.0",
            "grid_template_areas": null,
            "object_position": null,
            "object_fit": null,
            "grid_auto_columns": null,
            "margin": null,
            "display": null,
            "left": null
          }
        },
        "0eee381fa5e24bc1becb43875d494c80": {
          "model_module": "@jupyter-widgets/controls",
          "model_name": "DescriptionStyleModel",
          "state": {
            "_view_name": "StyleView",
            "_model_name": "DescriptionStyleModel",
            "description_width": "",
            "_view_module": "@jupyter-widgets/base",
            "_model_module_version": "1.5.0",
            "_view_count": null,
            "_view_module_version": "1.2.0",
            "_model_module": "@jupyter-widgets/controls"
          }
        },
        "076151d77b66454293a2fb5214002631": {
          "model_module": "@jupyter-widgets/base",
          "model_name": "LayoutModel",
          "state": {
            "_view_name": "LayoutView",
            "grid_template_rows": null,
            "right": null,
            "justify_content": null,
            "_view_module": "@jupyter-widgets/base",
            "overflow": null,
            "_model_module_version": "1.2.0",
            "_view_count": null,
            "flex_flow": null,
            "width": null,
            "min_width": null,
            "border": null,
            "align_items": null,
            "bottom": null,
            "_model_module": "@jupyter-widgets/base",
            "top": null,
            "grid_column": null,
            "overflow_y": null,
            "overflow_x": null,
            "grid_auto_flow": null,
            "grid_area": null,
            "grid_template_columns": null,
            "flex": null,
            "_model_name": "LayoutModel",
            "justify_items": null,
            "grid_row": null,
            "max_height": null,
            "align_content": null,
            "visibility": null,
            "align_self": null,
            "height": null,
            "min_height": null,
            "padding": null,
            "grid_auto_rows": null,
            "grid_gap": null,
            "max_width": null,
            "order": null,
            "_view_module_version": "1.2.0",
            "grid_template_areas": null,
            "object_position": null,
            "object_fit": null,
            "grid_auto_columns": null,
            "margin": null,
            "display": null,
            "left": null
          }
        },
        "8375e9513b7841d09be238871f91a387": {
          "model_module": "@jupyter-widgets/controls",
          "model_name": "HBoxModel",
          "state": {
            "_view_name": "HBoxView",
            "_dom_classes": [],
            "_model_name": "HBoxModel",
            "_view_module": "@jupyter-widgets/controls",
            "_model_module_version": "1.5.0",
            "_view_count": null,
            "_view_module_version": "1.5.0",
            "box_style": "",
            "layout": "IPY_MODEL_39cb4511810c481c9e980004c827f4a6",
            "_model_module": "@jupyter-widgets/controls",
            "children": [
              "IPY_MODEL_622c70b1bb404b22b712786eed401ddc",
              "IPY_MODEL_3cb4880f9c5c44e0939640e2a777a119"
            ]
          }
        },
        "39cb4511810c481c9e980004c827f4a6": {
          "model_module": "@jupyter-widgets/base",
          "model_name": "LayoutModel",
          "state": {
            "_view_name": "LayoutView",
            "grid_template_rows": null,
            "right": null,
            "justify_content": null,
            "_view_module": "@jupyter-widgets/base",
            "overflow": null,
            "_model_module_version": "1.2.0",
            "_view_count": null,
            "flex_flow": null,
            "width": null,
            "min_width": null,
            "border": null,
            "align_items": null,
            "bottom": null,
            "_model_module": "@jupyter-widgets/base",
            "top": null,
            "grid_column": null,
            "overflow_y": null,
            "overflow_x": null,
            "grid_auto_flow": null,
            "grid_area": null,
            "grid_template_columns": null,
            "flex": null,
            "_model_name": "LayoutModel",
            "justify_items": null,
            "grid_row": null,
            "max_height": null,
            "align_content": null,
            "visibility": null,
            "align_self": null,
            "height": null,
            "min_height": null,
            "padding": null,
            "grid_auto_rows": null,
            "grid_gap": null,
            "max_width": null,
            "order": null,
            "_view_module_version": "1.2.0",
            "grid_template_areas": null,
            "object_position": null,
            "object_fit": null,
            "grid_auto_columns": null,
            "margin": null,
            "display": null,
            "left": null
          }
        },
        "622c70b1bb404b22b712786eed401ddc": {
          "model_module": "@jupyter-widgets/controls",
          "model_name": "FloatProgressModel",
          "state": {
            "_view_name": "ProgressView",
            "style": "IPY_MODEL_e8f04c86d1ff43958f68ef94745ffb55",
            "_dom_classes": [],
            "description": "Downloading: 100%",
            "_model_name": "FloatProgressModel",
            "bar_style": "success",
            "max": 231508,
            "_view_module": "@jupyter-widgets/controls",
            "_model_module_version": "1.5.0",
            "value": 231508,
            "_view_count": null,
            "_view_module_version": "1.5.0",
            "orientation": "horizontal",
            "min": 0,
            "description_tooltip": null,
            "_model_module": "@jupyter-widgets/controls",
            "layout": "IPY_MODEL_20f752dfdd4a4cc18f7b8c6090e50cfe"
          }
        },
        "3cb4880f9c5c44e0939640e2a777a119": {
          "model_module": "@jupyter-widgets/controls",
          "model_name": "HTMLModel",
          "state": {
            "_view_name": "HTMLView",
            "style": "IPY_MODEL_baa0ac75ccea45a896598859290b4e2f",
            "_dom_classes": [],
            "description": "",
            "_model_name": "HTMLModel",
            "placeholder": "​",
            "_view_module": "@jupyter-widgets/controls",
            "_model_module_version": "1.5.0",
            "value": " 232k/232k [00:00&lt;00:00, 882kB/s]",
            "_view_count": null,
            "_view_module_version": "1.5.0",
            "description_tooltip": null,
            "_model_module": "@jupyter-widgets/controls",
            "layout": "IPY_MODEL_e3fd61d2c164497981c24b3172101cb6"
          }
        },
        "e8f04c86d1ff43958f68ef94745ffb55": {
          "model_module": "@jupyter-widgets/controls",
          "model_name": "ProgressStyleModel",
          "state": {
            "_view_name": "StyleView",
            "_model_name": "ProgressStyleModel",
            "description_width": "initial",
            "_view_module": "@jupyter-widgets/base",
            "_model_module_version": "1.5.0",
            "_view_count": null,
            "_view_module_version": "1.2.0",
            "bar_color": null,
            "_model_module": "@jupyter-widgets/controls"
          }
        },
        "20f752dfdd4a4cc18f7b8c6090e50cfe": {
          "model_module": "@jupyter-widgets/base",
          "model_name": "LayoutModel",
          "state": {
            "_view_name": "LayoutView",
            "grid_template_rows": null,
            "right": null,
            "justify_content": null,
            "_view_module": "@jupyter-widgets/base",
            "overflow": null,
            "_model_module_version": "1.2.0",
            "_view_count": null,
            "flex_flow": null,
            "width": null,
            "min_width": null,
            "border": null,
            "align_items": null,
            "bottom": null,
            "_model_module": "@jupyter-widgets/base",
            "top": null,
            "grid_column": null,
            "overflow_y": null,
            "overflow_x": null,
            "grid_auto_flow": null,
            "grid_area": null,
            "grid_template_columns": null,
            "flex": null,
            "_model_name": "LayoutModel",
            "justify_items": null,
            "grid_row": null,
            "max_height": null,
            "align_content": null,
            "visibility": null,
            "align_self": null,
            "height": null,
            "min_height": null,
            "padding": null,
            "grid_auto_rows": null,
            "grid_gap": null,
            "max_width": null,
            "order": null,
            "_view_module_version": "1.2.0",
            "grid_template_areas": null,
            "object_position": null,
            "object_fit": null,
            "grid_auto_columns": null,
            "margin": null,
            "display": null,
            "left": null
          }
        },
        "baa0ac75ccea45a896598859290b4e2f": {
          "model_module": "@jupyter-widgets/controls",
          "model_name": "DescriptionStyleModel",
          "state": {
            "_view_name": "StyleView",
            "_model_name": "DescriptionStyleModel",
            "description_width": "",
            "_view_module": "@jupyter-widgets/base",
            "_model_module_version": "1.5.0",
            "_view_count": null,
            "_view_module_version": "1.2.0",
            "_model_module": "@jupyter-widgets/controls"
          }
        },
        "e3fd61d2c164497981c24b3172101cb6": {
          "model_module": "@jupyter-widgets/base",
          "model_name": "LayoutModel",
          "state": {
            "_view_name": "LayoutView",
            "grid_template_rows": null,
            "right": null,
            "justify_content": null,
            "_view_module": "@jupyter-widgets/base",
            "overflow": null,
            "_model_module_version": "1.2.0",
            "_view_count": null,
            "flex_flow": null,
            "width": null,
            "min_width": null,
            "border": null,
            "align_items": null,
            "bottom": null,
            "_model_module": "@jupyter-widgets/base",
            "top": null,
            "grid_column": null,
            "overflow_y": null,
            "overflow_x": null,
            "grid_auto_flow": null,
            "grid_area": null,
            "grid_template_columns": null,
            "flex": null,
            "_model_name": "LayoutModel",
            "justify_items": null,
            "grid_row": null,
            "max_height": null,
            "align_content": null,
            "visibility": null,
            "align_self": null,
            "height": null,
            "min_height": null,
            "padding": null,
            "grid_auto_rows": null,
            "grid_gap": null,
            "max_width": null,
            "order": null,
            "_view_module_version": "1.2.0",
            "grid_template_areas": null,
            "object_position": null,
            "object_fit": null,
            "grid_auto_columns": null,
            "margin": null,
            "display": null,
            "left": null
          }
        }
      }
    }
  },
  "cells": [
    {
      "cell_type": "code",
      "metadata": {
        "colab": {
          "base_uri": "https://localhost:8080/"
        },
        "id": "fDQ_LJHEf4XU",
        "outputId": "b8aab8d8-64cc-4d10-89fe-b37142c5f979"
      },
      "source": [
        "!pip install sentencepiece"
      ],
      "execution_count": 7,
      "outputs": [
        {
          "output_type": "stream",
          "text": [
            "Collecting sentencepiece\n",
            "\u001b[?25l  Downloading https://files.pythonhosted.org/packages/e5/2d/6d4ca4bef9a67070fa1cac508606328329152b1df10bdf31fb6e4e727894/sentencepiece-0.1.94-cp36-cp36m-manylinux2014_x86_64.whl (1.1MB)\n",
            "\r\u001b[K     |▎                               | 10kB 15.6MB/s eta 0:00:01\r\u001b[K     |▋                               | 20kB 21.0MB/s eta 0:00:01\r\u001b[K     |▉                               | 30kB 19.1MB/s eta 0:00:01\r\u001b[K     |█▏                              | 40kB 13.9MB/s eta 0:00:01\r\u001b[K     |█▌                              | 51kB 8.0MB/s eta 0:00:01\r\u001b[K     |█▊                              | 61kB 7.9MB/s eta 0:00:01\r\u001b[K     |██                              | 71kB 7.7MB/s eta 0:00:01\r\u001b[K     |██▍                             | 81kB 8.6MB/s eta 0:00:01\r\u001b[K     |██▋                             | 92kB 9.4MB/s eta 0:00:01\r\u001b[K     |███                             | 102kB 9.7MB/s eta 0:00:01\r\u001b[K     |███▎                            | 112kB 9.7MB/s eta 0:00:01\r\u001b[K     |███▌                            | 122kB 9.7MB/s eta 0:00:01\r\u001b[K     |███▉                            | 133kB 9.7MB/s eta 0:00:01\r\u001b[K     |████▏                           | 143kB 9.7MB/s eta 0:00:01\r\u001b[K     |████▍                           | 153kB 9.7MB/s eta 0:00:01\r\u001b[K     |████▊                           | 163kB 9.7MB/s eta 0:00:01\r\u001b[K     |█████                           | 174kB 9.7MB/s eta 0:00:01\r\u001b[K     |█████▎                          | 184kB 9.7MB/s eta 0:00:01\r\u001b[K     |█████▋                          | 194kB 9.7MB/s eta 0:00:01\r\u001b[K     |█████▉                          | 204kB 9.7MB/s eta 0:00:01\r\u001b[K     |██████▏                         | 215kB 9.7MB/s eta 0:00:01\r\u001b[K     |██████▌                         | 225kB 9.7MB/s eta 0:00:01\r\u001b[K     |██████▊                         | 235kB 9.7MB/s eta 0:00:01\r\u001b[K     |███████                         | 245kB 9.7MB/s eta 0:00:01\r\u001b[K     |███████▍                        | 256kB 9.7MB/s eta 0:00:01\r\u001b[K     |███████▋                        | 266kB 9.7MB/s eta 0:00:01\r\u001b[K     |████████                        | 276kB 9.7MB/s eta 0:00:01\r\u001b[K     |████████▎                       | 286kB 9.7MB/s eta 0:00:01\r\u001b[K     |████████▌                       | 296kB 9.7MB/s eta 0:00:01\r\u001b[K     |████████▉                       | 307kB 9.7MB/s eta 0:00:01\r\u001b[K     |█████████                       | 317kB 9.7MB/s eta 0:00:01\r\u001b[K     |█████████▍                      | 327kB 9.7MB/s eta 0:00:01\r\u001b[K     |█████████▊                      | 337kB 9.7MB/s eta 0:00:01\r\u001b[K     |██████████                      | 348kB 9.7MB/s eta 0:00:01\r\u001b[K     |██████████▎                     | 358kB 9.7MB/s eta 0:00:01\r\u001b[K     |██████████▋                     | 368kB 9.7MB/s eta 0:00:01\r\u001b[K     |██████████▉                     | 378kB 9.7MB/s eta 0:00:01\r\u001b[K     |███████████▏                    | 389kB 9.7MB/s eta 0:00:01\r\u001b[K     |███████████▌                    | 399kB 9.7MB/s eta 0:00:01\r\u001b[K     |███████████▊                    | 409kB 9.7MB/s eta 0:00:01\r\u001b[K     |████████████                    | 419kB 9.7MB/s eta 0:00:01\r\u001b[K     |████████████▍                   | 430kB 9.7MB/s eta 0:00:01\r\u001b[K     |████████████▋                   | 440kB 9.7MB/s eta 0:00:01\r\u001b[K     |█████████████                   | 450kB 9.7MB/s eta 0:00:01\r\u001b[K     |█████████████▎                  | 460kB 9.7MB/s eta 0:00:01\r\u001b[K     |█████████████▌                  | 471kB 9.7MB/s eta 0:00:01\r\u001b[K     |█████████████▉                  | 481kB 9.7MB/s eta 0:00:01\r\u001b[K     |██████████████                  | 491kB 9.7MB/s eta 0:00:01\r\u001b[K     |██████████████▍                 | 501kB 9.7MB/s eta 0:00:01\r\u001b[K     |██████████████▊                 | 512kB 9.7MB/s eta 0:00:01\r\u001b[K     |███████████████                 | 522kB 9.7MB/s eta 0:00:01\r\u001b[K     |███████████████▎                | 532kB 9.7MB/s eta 0:00:01\r\u001b[K     |███████████████▋                | 542kB 9.7MB/s eta 0:00:01\r\u001b[K     |███████████████▉                | 552kB 9.7MB/s eta 0:00:01\r\u001b[K     |████████████████▏               | 563kB 9.7MB/s eta 0:00:01\r\u001b[K     |████████████████▌               | 573kB 9.7MB/s eta 0:00:01\r\u001b[K     |████████████████▊               | 583kB 9.7MB/s eta 0:00:01\r\u001b[K     |█████████████████               | 593kB 9.7MB/s eta 0:00:01\r\u001b[K     |█████████████████▍              | 604kB 9.7MB/s eta 0:00:01\r\u001b[K     |█████████████████▋              | 614kB 9.7MB/s eta 0:00:01\r\u001b[K     |██████████████████              | 624kB 9.7MB/s eta 0:00:01\r\u001b[K     |██████████████████▏             | 634kB 9.7MB/s eta 0:00:01\r\u001b[K     |██████████████████▌             | 645kB 9.7MB/s eta 0:00:01\r\u001b[K     |██████████████████▉             | 655kB 9.7MB/s eta 0:00:01\r\u001b[K     |███████████████████             | 665kB 9.7MB/s eta 0:00:01\r\u001b[K     |███████████████████▍            | 675kB 9.7MB/s eta 0:00:01\r\u001b[K     |███████████████████▊            | 686kB 9.7MB/s eta 0:00:01\r\u001b[K     |████████████████████            | 696kB 9.7MB/s eta 0:00:01\r\u001b[K     |████████████████████▎           | 706kB 9.7MB/s eta 0:00:01\r\u001b[K     |████████████████████▋           | 716kB 9.7MB/s eta 0:00:01\r\u001b[K     |████████████████████▉           | 727kB 9.7MB/s eta 0:00:01\r\u001b[K     |█████████████████████▏          | 737kB 9.7MB/s eta 0:00:01\r\u001b[K     |█████████████████████▌          | 747kB 9.7MB/s eta 0:00:01\r\u001b[K     |█████████████████████▊          | 757kB 9.7MB/s eta 0:00:01\r\u001b[K     |██████████████████████          | 768kB 9.7MB/s eta 0:00:01\r\u001b[K     |██████████████████████▎         | 778kB 9.7MB/s eta 0:00:01\r\u001b[K     |██████████████████████▋         | 788kB 9.7MB/s eta 0:00:01\r\u001b[K     |███████████████████████         | 798kB 9.7MB/s eta 0:00:01\r\u001b[K     |███████████████████████▏        | 808kB 9.7MB/s eta 0:00:01\r\u001b[K     |███████████████████████▌        | 819kB 9.7MB/s eta 0:00:01\r\u001b[K     |███████████████████████▉        | 829kB 9.7MB/s eta 0:00:01\r\u001b[K     |████████████████████████        | 839kB 9.7MB/s eta 0:00:01\r\u001b[K     |████████████████████████▍       | 849kB 9.7MB/s eta 0:00:01\r\u001b[K     |████████████████████████▊       | 860kB 9.7MB/s eta 0:00:01\r\u001b[K     |█████████████████████████       | 870kB 9.7MB/s eta 0:00:01\r\u001b[K     |█████████████████████████▎      | 880kB 9.7MB/s eta 0:00:01\r\u001b[K     |█████████████████████████▋      | 890kB 9.7MB/s eta 0:00:01\r\u001b[K     |█████████████████████████▉      | 901kB 9.7MB/s eta 0:00:01\r\u001b[K     |██████████████████████████▏     | 911kB 9.7MB/s eta 0:00:01\r\u001b[K     |██████████████████████████▌     | 921kB 9.7MB/s eta 0:00:01\r\u001b[K     |██████████████████████████▊     | 931kB 9.7MB/s eta 0:00:01\r\u001b[K     |███████████████████████████     | 942kB 9.7MB/s eta 0:00:01\r\u001b[K     |███████████████████████████▎    | 952kB 9.7MB/s eta 0:00:01\r\u001b[K     |███████████████████████████▋    | 962kB 9.7MB/s eta 0:00:01\r\u001b[K     |████████████████████████████    | 972kB 9.7MB/s eta 0:00:01\r\u001b[K     |████████████████████████████▏   | 983kB 9.7MB/s eta 0:00:01\r\u001b[K     |████████████████████████████▌   | 993kB 9.7MB/s eta 0:00:01\r\u001b[K     |████████████████████████████▉   | 1.0MB 9.7MB/s eta 0:00:01\r\u001b[K     |█████████████████████████████   | 1.0MB 9.7MB/s eta 0:00:01\r\u001b[K     |█████████████████████████████▍  | 1.0MB 9.7MB/s eta 0:00:01\r\u001b[K     |█████████████████████████████▊  | 1.0MB 9.7MB/s eta 0:00:01\r\u001b[K     |██████████████████████████████  | 1.0MB 9.7MB/s eta 0:00:01\r\u001b[K     |██████████████████████████████▎ | 1.1MB 9.7MB/s eta 0:00:01\r\u001b[K     |██████████████████████████████▋ | 1.1MB 9.7MB/s eta 0:00:01\r\u001b[K     |██████████████████████████████▉ | 1.1MB 9.7MB/s eta 0:00:01\r\u001b[K     |███████████████████████████████▏| 1.1MB 9.7MB/s eta 0:00:01\r\u001b[K     |███████████████████████████████▍| 1.1MB 9.7MB/s eta 0:00:01\r\u001b[K     |███████████████████████████████▊| 1.1MB 9.7MB/s eta 0:00:01\r\u001b[K     |████████████████████████████████| 1.1MB 9.7MB/s \n",
            "\u001b[?25hInstalling collected packages: sentencepiece\n",
            "Successfully installed sentencepiece-0.1.94\n"
          ],
          "name": "stdout"
        }
      ]
    },
    {
      "cell_type": "code",
      "metadata": {
        "colab": {
          "base_uri": "https://localhost:8080/",
          "height": 869
        },
        "id": "BvbzMPQDew2d",
        "outputId": "87f02585-2725-4f2e-c00c-89c369950d72"
      },
      "source": [
        "!pip install transformers==2.8.0"
      ],
      "execution_count": 10,
      "outputs": [
        {
          "output_type": "stream",
          "text": [
            "Collecting transformers==2.8.0\n",
            "\u001b[?25l  Downloading https://files.pythonhosted.org/packages/a3/78/92cedda05552398352ed9784908b834ee32a0bd071a9b32de287327370b7/transformers-2.8.0-py3-none-any.whl (563kB)\n",
            "\u001b[K     |████████████████████████████████| 573kB 9.4MB/s \n",
            "\u001b[?25hRequirement already satisfied: sentencepiece in /usr/local/lib/python3.6/dist-packages (from transformers==2.8.0) (0.1.94)\n",
            "Collecting boto3\n",
            "\u001b[?25l  Downloading https://files.pythonhosted.org/packages/f6/bf/6fd00f2e8b2f9e8688b10b616c66be985a0053729cb1e92ac2f6e8ec1cd6/boto3-1.16.40-py2.py3-none-any.whl (130kB)\n",
            "\u001b[K     |████████████████████████████████| 133kB 17.6MB/s \n",
            "\u001b[?25hRequirement already satisfied: requests in /usr/local/lib/python3.6/dist-packages (from transformers==2.8.0) (2.23.0)\n",
            "Requirement already satisfied: dataclasses; python_version < \"3.7\" in /usr/local/lib/python3.6/dist-packages (from transformers==2.8.0) (0.8)\n",
            "Requirement already satisfied: filelock in /usr/local/lib/python3.6/dist-packages (from transformers==2.8.0) (3.0.12)\n",
            "Requirement already satisfied: regex!=2019.12.17 in /usr/local/lib/python3.6/dist-packages (from transformers==2.8.0) (2019.12.20)\n",
            "Requirement already satisfied: numpy in /usr/local/lib/python3.6/dist-packages (from transformers==2.8.0) (1.19.4)\n",
            "Requirement already satisfied: tqdm>=4.27 in /usr/local/lib/python3.6/dist-packages (from transformers==2.8.0) (4.41.1)\n",
            "Requirement already satisfied: sacremoses in /usr/local/lib/python3.6/dist-packages (from transformers==2.8.0) (0.0.43)\n",
            "Collecting tokenizers==0.5.2\n",
            "\u001b[?25l  Downloading https://files.pythonhosted.org/packages/d1/3f/73c881ea4723e43c1e9acf317cf407fab3a278daab3a69c98dcac511c04f/tokenizers-0.5.2-cp36-cp36m-manylinux1_x86_64.whl (3.7MB)\n",
            "\u001b[K     |████████████████████████████████| 3.7MB 16.6MB/s \n",
            "\u001b[?25hCollecting s3transfer<0.4.0,>=0.3.0\n",
            "\u001b[?25l  Downloading https://files.pythonhosted.org/packages/69/79/e6afb3d8b0b4e96cefbdc690f741d7dd24547ff1f94240c997a26fa908d3/s3transfer-0.3.3-py2.py3-none-any.whl (69kB)\n",
            "\u001b[K     |████████████████████████████████| 71kB 8.4MB/s \n",
            "\u001b[?25hCollecting botocore<1.20.0,>=1.19.40\n",
            "\u001b[?25l  Downloading https://files.pythonhosted.org/packages/ea/77/13fc099a10c22d08d766e244412c114694e21982c04cafc1ade33d8a430c/botocore-1.19.40-py2.py3-none-any.whl (7.1MB)\n",
            "\u001b[K     |████████████████████████████████| 7.1MB 41.9MB/s \n",
            "\u001b[?25hCollecting jmespath<1.0.0,>=0.7.1\n",
            "  Downloading https://files.pythonhosted.org/packages/07/cb/5f001272b6faeb23c1c9e0acc04d48eaaf5c862c17709d20e3469c6e0139/jmespath-0.10.0-py2.py3-none-any.whl\n",
            "Requirement already satisfied: certifi>=2017.4.17 in /usr/local/lib/python3.6/dist-packages (from requests->transformers==2.8.0) (2020.12.5)\n",
            "Requirement already satisfied: chardet<4,>=3.0.2 in /usr/local/lib/python3.6/dist-packages (from requests->transformers==2.8.0) (3.0.4)\n",
            "Requirement already satisfied: urllib3!=1.25.0,!=1.25.1,<1.26,>=1.21.1 in /usr/local/lib/python3.6/dist-packages (from requests->transformers==2.8.0) (1.24.3)\n",
            "Requirement already satisfied: idna<3,>=2.5 in /usr/local/lib/python3.6/dist-packages (from requests->transformers==2.8.0) (2.10)\n",
            "Requirement already satisfied: joblib in /usr/local/lib/python3.6/dist-packages (from sacremoses->transformers==2.8.0) (1.0.0)\n",
            "Requirement already satisfied: click in /usr/local/lib/python3.6/dist-packages (from sacremoses->transformers==2.8.0) (7.1.2)\n",
            "Requirement already satisfied: six in /usr/local/lib/python3.6/dist-packages (from sacremoses->transformers==2.8.0) (1.15.0)\n",
            "Requirement already satisfied: python-dateutil<3.0.0,>=2.1 in /usr/local/lib/python3.6/dist-packages (from botocore<1.20.0,>=1.19.40->boto3->transformers==2.8.0) (2.8.1)\n",
            "\u001b[31mERROR: botocore 1.19.40 has requirement urllib3<1.27,>=1.25.4; python_version != \"3.4\", but you'll have urllib3 1.24.3 which is incompatible.\u001b[0m\n",
            "Installing collected packages: jmespath, botocore, s3transfer, boto3, tokenizers, transformers\n",
            "  Found existing installation: tokenizers 0.9.4\n",
            "    Uninstalling tokenizers-0.9.4:\n",
            "      Successfully uninstalled tokenizers-0.9.4\n",
            "  Found existing installation: transformers 4.1.1\n",
            "    Uninstalling transformers-4.1.1:\n",
            "      Successfully uninstalled transformers-4.1.1\n",
            "Successfully installed boto3-1.16.40 botocore-1.19.40 jmespath-0.10.0 s3transfer-0.3.3 tokenizers-0.5.2 transformers-2.8.0\n"
          ],
          "name": "stdout"
        },
        {
          "output_type": "display_data",
          "data": {
            "application/vnd.colab-display-data+json": {
              "pip_warning": {
                "packages": [
                  "tokenizers",
                  "transformers"
                ]
              }
            }
          },
          "metadata": {
            "tags": []
          }
        }
      ]
    },
    {
      "cell_type": "code",
      "metadata": {
        "id": "rcfb45HReq_-"
      },
      "source": [
        "from transformers import TFXLNetModel, XLNetTokenizer\r\n"
      ],
      "execution_count": 1,
      "outputs": []
    },
    {
      "cell_type": "code",
      "metadata": {
        "id": "yquS0qwnffdA"
      },
      "source": [
        "import tensorflow as tf\r\n",
        "import sentencepiece"
      ],
      "execution_count": 8,
      "outputs": []
    },
    {
      "cell_type": "code",
      "metadata": {
        "colab": {
          "base_uri": "https://localhost:8080/",
          "height": 67,
          "referenced_widgets": [
            "97c5f788cf234464869ae3742dac7370",
            "7294a86f3efe4b1494189285b96f0ce7",
            "56842bf91e3d45f1b2f16f65855e2870",
            "c0e2e6904adb4c7eb7b94caafebedb99",
            "7c0c0dbddb4c47c89163b5f1256fdd84",
            "c581186c503b4a18994d33fba9d89412",
            "0eee381fa5e24bc1becb43875d494c80",
            "076151d77b66454293a2fb5214002631"
          ]
        },
        "id": "1rR8U-UEes7x",
        "outputId": "1aa8de42-0cbe-4eb4-d5fd-8f291991f2d5"
      },
      "source": [
        "xlnet_model = 'xlnet-large-cased'\r\n",
        "xlnet_tokenizer = XLNetTokenizer.from_pretrained(xlnet_model)"
      ],
      "execution_count": 2,
      "outputs": [
        {
          "output_type": "display_data",
          "data": {
            "application/vnd.jupyter.widget-view+json": {
              "model_id": "97c5f788cf234464869ae3742dac7370",
              "version_minor": 0,
              "version_major": 2
            },
            "text/plain": [
              "HBox(children=(FloatProgress(value=0.0, description='Downloading', max=798011.0, style=ProgressStyle(descripti…"
            ]
          },
          "metadata": {
            "tags": []
          }
        },
        {
          "output_type": "stream",
          "text": [
            "\n"
          ],
          "name": "stdout"
        }
      ]
    },
    {
      "cell_type": "code",
      "metadata": {
        "colab": {
          "base_uri": "https://localhost:8080/"
        },
        "id": "q09iIEE3e3DE",
        "outputId": "4368fa19-ac3c-40cd-f0a4-743af4344158"
      },
      "source": [
        "xlnet_tokenizer.tokenize('9arwwwwii yhbb 3alaa bouwahh la7niynn 5hndhawii')"
      ],
      "execution_count": 4,
      "outputs": [
        {
          "output_type": "execute_result",
          "data": {
            "text/plain": [
              "['▁9',\n",
              " 'ar',\n",
              " 'www',\n",
              " 'wi',\n",
              " 'i',\n",
              " '▁',\n",
              " 'y',\n",
              " 'h',\n",
              " 'bb',\n",
              " '▁3',\n",
              " 'ala',\n",
              " 'a',\n",
              " '▁',\n",
              " 'bou',\n",
              " 'wah',\n",
              " 'h',\n",
              " '▁la',\n",
              " '7',\n",
              " 'ni',\n",
              " 'yn',\n",
              " 'n',\n",
              " '▁5',\n",
              " 'hn',\n",
              " 'dha',\n",
              " 'wi',\n",
              " 'i']"
            ]
          },
          "metadata": {
            "tags": []
          },
          "execution_count": 4
        }
      ]
    },
    {
      "cell_type": "code",
      "metadata": {
        "colab": {
          "base_uri": "https://localhost:8080/"
        },
        "id": "3iQzXqDdg1U3",
        "outputId": "82f2a6cf-9771-4445-dbd6-eebff426cb6a"
      },
      "source": [
        "xlnet_tokenizer.tokenize('المجلس الأعلى للأمن الجزائر برئاسة الرئيس عبد المجيد تبون')"
      ],
      "execution_count": 5,
      "outputs": [
        {
          "output_type": "execute_result",
          "data": {
            "text/plain": [
              "['▁',\n",
              " 'ا',\n",
              " 'لمجلس',\n",
              " '▁',\n",
              " 'ا',\n",
              " 'ل',\n",
              " 'ا',\n",
              " 'على',\n",
              " '▁',\n",
              " 'لل',\n",
              " 'ا',\n",
              " 'من',\n",
              " '▁',\n",
              " 'ا',\n",
              " 'لجز',\n",
              " 'ا',\n",
              " 'ير',\n",
              " '▁',\n",
              " 'بري',\n",
              " 'ا',\n",
              " 'سة',\n",
              " '▁',\n",
              " 'ا',\n",
              " 'لرييس',\n",
              " '▁',\n",
              " 'عبد',\n",
              " '▁',\n",
              " 'ا',\n",
              " 'لمجيد',\n",
              " '▁',\n",
              " 'تبون']"
            ]
          },
          "metadata": {
            "tags": []
          },
          "execution_count": 5
        }
      ]
    },
    {
      "cell_type": "code",
      "metadata": {
        "id": "Nf2YOFZ_hSsV"
      },
      "source": [
        "from transformers import BertTokenizer"
      ],
      "execution_count": 6,
      "outputs": []
    },
    {
      "cell_type": "code",
      "metadata": {
        "colab": {
          "base_uri": "https://localhost:8080/",
          "height": 955,
          "referenced_widgets": [
            "8375e9513b7841d09be238871f91a387",
            "39cb4511810c481c9e980004c827f4a6",
            "622c70b1bb404b22b712786eed401ddc",
            "3cb4880f9c5c44e0939640e2a777a119",
            "e8f04c86d1ff43958f68ef94745ffb55",
            "20f752dfdd4a4cc18f7b8c6090e50cfe",
            "baa0ac75ccea45a896598859290b4e2f",
            "e3fd61d2c164497981c24b3172101cb6"
          ]
        },
        "id": "fynLcAmFhnbw",
        "outputId": "c1d56fc4-3b6d-49ab-9ba8-40ab4763df7a"
      },
      "source": [
        "tokenizer = BertTokenizer.from_pretrained('bert-base-uncased', do_lower_case=True)\r\n",
        "\r\n",
        "tokenizer.tokenize(text='المجلس الأعلى للأمن الجزائر برئاسة الرئيس عبد المجيد تبون')"
      ],
      "execution_count": 9,
      "outputs": [
        {
          "output_type": "display_data",
          "data": {
            "application/vnd.jupyter.widget-view+json": {
              "model_id": "8375e9513b7841d09be238871f91a387",
              "version_minor": 0,
              "version_major": 2
            },
            "text/plain": [
              "HBox(children=(FloatProgress(value=0.0, description='Downloading', max=231508.0, style=ProgressStyle(descripti…"
            ]
          },
          "metadata": {
            "tags": []
          }
        },
        {
          "output_type": "stream",
          "text": [
            "\n"
          ],
          "name": "stdout"
        },
        {
          "output_type": "execute_result",
          "data": {
            "text/plain": [
              "['ا',\n",
              " '##ل',\n",
              " '##م',\n",
              " '##ج',\n",
              " '##ل',\n",
              " '##س',\n",
              " 'ا',\n",
              " '##ل',\n",
              " '##ا',\n",
              " '##ع',\n",
              " '##ل',\n",
              " '##ى',\n",
              " 'ل',\n",
              " '##ل',\n",
              " '##ا',\n",
              " '##م',\n",
              " '##ن',\n",
              " 'ا',\n",
              " '##ل',\n",
              " '##ج',\n",
              " '##ز',\n",
              " '##ا',\n",
              " '##ي',\n",
              " '##ر',\n",
              " 'ب',\n",
              " '##ر',\n",
              " '##ي',\n",
              " '##ا',\n",
              " '##س',\n",
              " '##ة',\n",
              " 'ا',\n",
              " '##ل',\n",
              " '##ر',\n",
              " '##ي',\n",
              " '##ي',\n",
              " '##س',\n",
              " 'ع',\n",
              " '##ب',\n",
              " '##د',\n",
              " 'ا',\n",
              " '##ل',\n",
              " '##م',\n",
              " '##ج',\n",
              " '##ي',\n",
              " '##د',\n",
              " 'ت',\n",
              " '##ب',\n",
              " '##و',\n",
              " '##ن']"
            ]
          },
          "metadata": {
            "tags": []
          },
          "execution_count": 9
        }
      ]
    },
    {
      "cell_type": "code",
      "metadata": {
        "id": "geeAvqBkhv0Y"
      },
      "source": [
        ""
      ],
      "execution_count": null,
      "outputs": []
    }
  ]
}